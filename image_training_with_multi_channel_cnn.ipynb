{
 "cells": [
  {
   "metadata": {},
   "cell_type": "code",
   "source": "!pip install pyts",
   "id": "59e749185811e437",
   "outputs": [],
   "execution_count": null
  },
  {
   "cell_type": "code",
   "id": "initial_id",
   "metadata": {
    "collapsed": true,
    "ExecuteTime": {
     "end_time": "2024-11-02T10:23:23.401687Z",
     "start_time": "2024-11-02T10:22:35.354528Z"
    }
   },
   "source": [
    "import os\n",
    "import pandas as pd\n",
    "import numpy as np\n",
    "import multiprocessing\n",
    "import tensorflow as tf\n",
    "\n",
    "class color:\n",
    "   PURPLE = '\\033[95m'\n",
    "   CYAN = '\\033[96m'\n",
    "   DARKCYAN = '\\033[36m'\n",
    "   BLUE = '\\033[94m'\n",
    "   GREEN = '\\033[92m'\n",
    "   YELLOW = '\\033[93m'\n",
    "   RED = '\\033[91m'\n",
    "   BOLD = '\\033[1m'\n",
    "   UNDERLINE = '\\033[4m'\n",
    "   END = '\\033[0m'\n",
    "    \n",
    "\n",
    "RND_SEED = 0\n",
    "GPU_ID = 0\n",
    "USE_GPU = True\n",
    "\n",
    "if tf.config.list_physical_devices('GPU') and USE_GPU:\n",
    "    gpus = tf.config.experimental.list_physical_devices('GPU')\n",
    "    gpu_name = gpus[0].name  # You may specify an index if using multiple GPUs\n",
    "    print(f\"Using GPU - {gpu_name}\")\n",
    "    device = '/GPU:0'\n",
    "else:\n",
    "    device = '/CPU:0'\n",
    "\n",
    "# To use the device, you can use a context manager in TensorFlow:\n",
    "with tf.device(device):\n",
    "    # Your code that uses the specified device\n",
    "    pass\n",
    "\n",
    "print(f\"Using device {device}\")\n",
    "\n",
    "N_CPU_CORES = multiprocessing.cpu_count()\n",
    "\n",
    "BASE_FOLDER = os.path.join(\n",
    "    \"..\", \"input\", \"tlvmc-parkinsons-freezing-gait-prediction\"\n",
    ")\n",
    "\n",
    "print(f\"Number of CPU cores available: {N_CPU_CORES}\")\n",
    "\n",
    "pd.set_option('display.max_columns', 30)\n",
    "pd.set_option('display.max_rows', 200)\n",
    "\n",
    "from sklearn.metrics import f1_score\n",
    "import os\n",
    "import numpy as np\n",
    "from tensorflow.keras.utils import Sequence, to_categorical\n",
    "from tensorflow.keras.preprocessing.image import ImageDataGenerator, img_to_array, load_img"
   ],
   "outputs": [
    {
     "name": "stdout",
     "output_type": "stream",
     "text": [
      "Using GPU - /physical_device:GPU:0\n",
      "Using device /GPU:0\n",
      "Number of CPU cores available: 12\n"
     ]
    }
   ],
   "execution_count": 1
  },
  {
   "metadata": {
    "ExecuteTime": {
     "end_time": "2024-10-27T17:44:24.206431Z",
     "start_time": "2024-10-27T17:44:24.192921Z"
    }
   },
   "cell_type": "code",
   "source": "# img_height, img_width = 100, 300",
   "id": "5339a07591b5c8f4",
   "outputs": [],
   "execution_count": 2
  },
  {
   "metadata": {
    "ExecuteTime": {
     "end_time": "2024-11-01T18:09:13.940567Z",
     "start_time": "2024-11-01T18:09:13.897192Z"
    }
   },
   "cell_type": "code",
   "source": [
    "class CustomMultiInputDataGenerator(Sequence):\n",
    "    def __init__(self, directories, batch_size=32, image_size=(64, 64), shuffle=True, augment=False, num_classes=2, **kwargs):\n",
    "        \"\"\"\n",
    "        directories: List of directories, one for each input branch.\n",
    "        \"\"\"\n",
    "        super().__init__(**kwargs)\n",
    "        self.directories = directories\n",
    "        self.batch_size = batch_size\n",
    "        self.image_size = image_size\n",
    "        self.shuffle = shuffle\n",
    "        self.augment = augment\n",
    "        self.num_classes = num_classes\n",
    "        self.image_paths = self._load_image_paths()\n",
    "        self.samples = len(self.image_paths[0])  # Assume all branches have the same number of images\n",
    "        \n",
    "        # Initialize the ImageDataGenerator for augmentation\n",
    "        self.datagen = ImageDataGenerator(\n",
    "            rescale=1/255.0,\n",
    "            width_shift_range=0.1 if self.augment else 0,\n",
    "            height_shift_range=0.1 if self.augment else 0\n",
    "        )\n",
    "        \n",
    "        self.on_epoch_end()\n",
    "\n",
    "    def _load_image_paths(self):\n",
    "        # Load image paths for each branch directory\n",
    "        image_paths = []\n",
    "        for directory in self.directories:\n",
    "            branch_image_paths = [os.path.join(directory, fname) for fname in os.listdir(directory) if fname.endswith('.jpg')]\n",
    "            image_paths.append(branch_image_paths)\n",
    "        return image_paths\n",
    "\n",
    "    def _get_class_from_filename(self, filename):\n",
    "        # Extract label from filename assuming a naming convention\n",
    "        class_label = int(filename.split('_')[-1].split('.')[0])\n",
    "        return class_label\n",
    "\n",
    "    def __len__(self):\n",
    "        return int(np.ceil(self.samples / self.batch_size))\n",
    "\n",
    "    def __getitem__(self, index):\n",
    "        # Load a batch of images for each branch\n",
    "        batch_image_paths = [paths[index * self.batch_size:(index + 1) * self.batch_size] for paths in self.image_paths]\n",
    "        \n",
    "        # Load and preprocess images for each branch\n",
    "        images_per_branch = []\n",
    "        for branch_paths in batch_image_paths:\n",
    "            images = np.array([img_to_array(load_img(path, target_size=self.image_size)) for path in branch_paths])\n",
    "            if self.augment:\n",
    "                images = np.array([self.datagen.random_transform(image) for image in images])\n",
    "            else:\n",
    "                images = self.datagen.standardize(images)\n",
    "            images_per_branch.append(images)\n",
    "\n",
    "        # Load labels (assuming the same labels for each branch)\n",
    "        labels = np.array([self._get_class_from_filename(os.path.basename(path)) for path in batch_image_paths[0]])\n",
    "        labels = to_categorical(labels, num_classes=self.num_classes)\n",
    "        \n",
    "        return images_per_branch, labels\n",
    "\n",
    "    def on_epoch_end(self):\n",
    "        if self.shuffle:\n",
    "            for branch_paths in self.image_paths:\n",
    "                np.random.shuffle(branch_paths)\n"
   ],
   "id": "bf0a3b107a4eab55",
   "outputs": [],
   "execution_count": 2
  },
  {
   "metadata": {
    "ExecuteTime": {
     "end_time": "2024-11-01T18:21:01.569363Z",
     "start_time": "2024-11-01T18:21:01.560073Z"
    }
   },
   "cell_type": "code",
   "source": [
    "from models.cnn_models import create_multi_input_cnn\n",
    "img_shape = (64, 64)"
   ],
   "id": "3b26a3551f1cec59",
   "outputs": [],
   "execution_count": 12
  },
  {
   "metadata": {
    "ExecuteTime": {
     "end_time": "2024-10-31T06:01:35.763533Z",
     "start_time": "2024-10-31T04:54:27.434716Z"
    }
   },
   "cell_type": "code",
   "source": [
    "train_directories = [\"data/mean_subtract/gaf_images/AccAP/train\", \"data/mean_subtract/gaf_images/AccML/train\", \"data/mean_subtract/gaf_images/AccV/train\"]\n",
    "\n",
    "val_directories = [\"data/mean_subtract/gaf_images/AccAP/valid\", \"data/mean_subtract/gaf_images/AccML/valid\", \"data/mean_subtract/gaf_images/AccV/valid\"]\n",
    "\n",
    "train_generator = CustomMultiInputDataGenerator(\n",
    "    directories=train_directories,\n",
    "    batch_size=32,\n",
    "    image_size=img_shape,\n",
    "    augment=False,\n",
    "    num_classes=2\n",
    ")\n",
    "\n",
    "val_generator = CustomMultiInputDataGenerator(\n",
    "    directories=val_directories,\n",
    "    batch_size=32,\n",
    "    image_size=img_shape,\n",
    "    augment=False,\n",
    "    num_classes=2\n",
    ")\n",
    "\n",
    "model = create_multi_input_cnn()\n",
    "\n",
    "history = model.fit(\n",
    "    train_generator,\n",
    "    validation_data=val_generator,\n",
    "    epochs=60\n",
    ")"
   ],
   "id": "32f400e6e0b1f418",
   "outputs": [
    {
     "name": "stdout",
     "output_type": "stream",
     "text": [
      "Epoch 1/60\n",
      "259/259 [==============================] - 236s 906ms/step - loss: 1.0834 - accuracy: 0.7140 - precision: 0.7140 - recall: 0.7140 - f1_metric: 0.5945 - val_loss: 1.1049 - val_accuracy: 0.5548 - val_precision: 0.5548 - val_recall: 0.5548 - val_f1_metric: 0.5217\n",
      "Epoch 2/60\n",
      "259/259 [==============================] - 67s 256ms/step - loss: 0.8321 - accuracy: 0.7720 - precision: 0.7720 - recall: 0.7720 - f1_metric: 0.6934 - val_loss: 0.8979 - val_accuracy: 0.6257 - val_precision: 0.6257 - val_recall: 0.6257 - val_f1_metric: 0.4979\n",
      "Epoch 3/60\n",
      "259/259 [==============================] - 68s 264ms/step - loss: 0.6934 - accuracy: 0.7803 - precision: 0.7803 - recall: 0.7803 - f1_metric: 0.7077 - val_loss: 0.8247 - val_accuracy: 0.6100 - val_precision: 0.6100 - val_recall: 0.6100 - val_f1_metric: 0.5081\n",
      "Epoch 4/60\n",
      "259/259 [==============================] - 70s 272ms/step - loss: 0.6128 - accuracy: 0.7852 - precision: 0.7852 - recall: 0.7852 - f1_metric: 0.7130 - val_loss: 0.7058 - val_accuracy: 0.6842 - val_precision: 0.6842 - val_recall: 0.6842 - val_f1_metric: 0.4419\n",
      "Epoch 5/60\n",
      "259/259 [==============================] - 66s 256ms/step - loss: 0.5614 - accuracy: 0.7949 - precision: 0.7949 - recall: 0.7949 - f1_metric: 0.7296 - val_loss: 0.8755 - val_accuracy: 0.6929 - val_precision: 0.6929 - val_recall: 0.6929 - val_f1_metric: 0.1150\n",
      "Epoch 6/60\n",
      "259/259 [==============================] - 66s 253ms/step - loss: 0.5271 - accuracy: 0.7924 - precision: 0.7924 - recall: 0.7924 - f1_metric: 0.7257 - val_loss: 0.7382 - val_accuracy: 0.6934 - val_precision: 0.6934 - val_recall: 0.6934 - val_f1_metric: 0.1689\n",
      "Epoch 7/60\n",
      "259/259 [==============================] - 66s 254ms/step - loss: 0.5091 - accuracy: 0.7940 - precision: 0.7940 - recall: 0.7940 - f1_metric: 0.7303 - val_loss: 0.6193 - val_accuracy: 0.7008 - val_precision: 0.7008 - val_recall: 0.7008 - val_f1_metric: 0.3058\n",
      "Epoch 8/60\n",
      "259/259 [==============================] - 66s 253ms/step - loss: 0.4937 - accuracy: 0.8003 - precision: 0.8003 - recall: 0.8003 - f1_metric: 0.7385 - val_loss: 0.7635 - val_accuracy: 0.6734 - val_precision: 0.6734 - val_recall: 0.6734 - val_f1_metric: 0.5196\n",
      "Epoch 9/60\n",
      "259/259 [==============================] - 66s 254ms/step - loss: 0.4898 - accuracy: 0.8041 - precision: 0.8041 - recall: 0.8041 - f1_metric: 0.7433 - val_loss: 0.7340 - val_accuracy: 0.5548 - val_precision: 0.5548 - val_recall: 0.5548 - val_f1_metric: 0.5358\n",
      "Epoch 10/60\n",
      "259/259 [==============================] - 66s 255ms/step - loss: 0.4776 - accuracy: 0.8063 - precision: 0.8063 - recall: 0.8063 - f1_metric: 0.7474 - val_loss: 0.6286 - val_accuracy: 0.6718 - val_precision: 0.6718 - val_recall: 0.6718 - val_f1_metric: 0.5469\n",
      "Epoch 11/60\n",
      "259/259 [==============================] - 66s 253ms/step - loss: 0.4761 - accuracy: 0.8028 - precision: 0.8028 - recall: 0.8028 - f1_metric: 0.7446 - val_loss: 0.5961 - val_accuracy: 0.7087 - val_precision: 0.7087 - val_recall: 0.7087 - val_f1_metric: 0.3029\n",
      "Epoch 12/60\n",
      "259/259 [==============================] - 66s 254ms/step - loss: 0.4682 - accuracy: 0.8061 - precision: 0.8061 - recall: 0.8061 - f1_metric: 0.7481 - val_loss: 0.9788 - val_accuracy: 0.6938 - val_precision: 0.6938 - val_recall: 0.6938 - val_f1_metric: 0.0245\n",
      "Epoch 13/60\n",
      "259/259 [==============================] - 66s 254ms/step - loss: 0.4693 - accuracy: 0.8102 - precision: 0.8102 - recall: 0.8102 - f1_metric: 0.7540 - val_loss: 0.6437 - val_accuracy: 0.6228 - val_precision: 0.6228 - val_recall: 0.6228 - val_f1_metric: 0.5213\n",
      "Epoch 14/60\n",
      "259/259 [==============================] - 65s 253ms/step - loss: 0.4650 - accuracy: 0.8154 - precision: 0.8154 - recall: 0.8154 - f1_metric: 0.7638 - val_loss: 0.6195 - val_accuracy: 0.6747 - val_precision: 0.6747 - val_recall: 0.6747 - val_f1_metric: 0.5472\n",
      "Epoch 15/60\n",
      "259/259 [==============================] - 65s 253ms/step - loss: 0.4592 - accuracy: 0.8148 - precision: 0.8148 - recall: 0.8148 - f1_metric: 0.7635 - val_loss: 0.7909 - val_accuracy: 0.6784 - val_precision: 0.6784 - val_recall: 0.6784 - val_f1_metric: 0.5157\n",
      "Epoch 16/60\n",
      "259/259 [==============================] - 66s 253ms/step - loss: 0.4603 - accuracy: 0.8171 - precision: 0.8171 - recall: 0.8171 - f1_metric: 0.7653 - val_loss: 0.6727 - val_accuracy: 0.6618 - val_precision: 0.6618 - val_recall: 0.6618 - val_f1_metric: 0.4837\n",
      "Epoch 17/60\n",
      "259/259 [==============================] - 65s 252ms/step - loss: 0.4621 - accuracy: 0.8146 - precision: 0.8146 - recall: 0.8146 - f1_metric: 0.7631 - val_loss: 0.9233 - val_accuracy: 0.5797 - val_precision: 0.5797 - val_recall: 0.5797 - val_f1_metric: 0.5257\n",
      "Epoch 18/60\n",
      "259/259 [==============================] - 65s 249ms/step - loss: 0.4621 - accuracy: 0.8131 - precision: 0.8131 - recall: 0.8131 - f1_metric: 0.7592 - val_loss: 0.7026 - val_accuracy: 0.7166 - val_precision: 0.7166 - val_recall: 0.7166 - val_f1_metric: 0.4944\n",
      "Epoch 19/60\n",
      "259/259 [==============================] - 64s 245ms/step - loss: 0.4560 - accuracy: 0.8173 - precision: 0.8173 - recall: 0.8173 - f1_metric: 0.7641 - val_loss: 0.5901 - val_accuracy: 0.6925 - val_precision: 0.6925 - val_recall: 0.6925 - val_f1_metric: 0.0924\n",
      "Epoch 20/60\n",
      "259/259 [==============================] - 64s 246ms/step - loss: 0.4523 - accuracy: 0.8176 - precision: 0.8176 - recall: 0.8176 - f1_metric: 0.7686 - val_loss: 0.5928 - val_accuracy: 0.7137 - val_precision: 0.7137 - val_recall: 0.7137 - val_f1_metric: 0.4781\n",
      "Epoch 21/60\n",
      "259/259 [==============================] - 64s 246ms/step - loss: 0.4430 - accuracy: 0.8203 - precision: 0.8203 - recall: 0.8203 - f1_metric: 0.7680 - val_loss: 0.8110 - val_accuracy: 0.7004 - val_precision: 0.7004 - val_recall: 0.7004 - val_f1_metric: 0.1802\n",
      "Epoch 22/60\n",
      "259/259 [==============================] - 64s 245ms/step - loss: 0.4487 - accuracy: 0.8207 - precision: 0.8207 - recall: 0.8207 - f1_metric: 0.7711 - val_loss: 0.8482 - val_accuracy: 0.5456 - val_precision: 0.5456 - val_recall: 0.5456 - val_f1_metric: 0.5138\n",
      "Epoch 23/60\n",
      "259/259 [==============================] - 64s 246ms/step - loss: 0.4457 - accuracy: 0.8185 - precision: 0.8185 - recall: 0.8185 - f1_metric: 0.7676 - val_loss: 0.5949 - val_accuracy: 0.6830 - val_precision: 0.6830 - val_recall: 0.6830 - val_f1_metric: 0.5432\n",
      "Epoch 24/60\n",
      "259/259 [==============================] - 64s 245ms/step - loss: 0.4482 - accuracy: 0.8222 - precision: 0.8222 - recall: 0.8222 - f1_metric: 0.7717 - val_loss: 0.7004 - val_accuracy: 0.6988 - val_precision: 0.6988 - val_recall: 0.6988 - val_f1_metric: 0.4392\n",
      "Epoch 25/60\n",
      "259/259 [==============================] - 64s 246ms/step - loss: 0.4407 - accuracy: 0.8222 - precision: 0.8222 - recall: 0.8222 - f1_metric: 0.7694 - val_loss: 0.5839 - val_accuracy: 0.6942 - val_precision: 0.6942 - val_recall: 0.6942 - val_f1_metric: 0.3903\n",
      "Epoch 26/60\n",
      "259/259 [==============================] - 64s 246ms/step - loss: 0.4425 - accuracy: 0.8295 - precision: 0.8295 - recall: 0.8295 - f1_metric: 0.7804 - val_loss: 0.6381 - val_accuracy: 0.6643 - val_precision: 0.6643 - val_recall: 0.6643 - val_f1_metric: 0.5575\n",
      "Epoch 27/60\n",
      "259/259 [==============================] - 64s 248ms/step - loss: 0.4410 - accuracy: 0.8269 - precision: 0.8269 - recall: 0.8269 - f1_metric: 0.7786 - val_loss: 0.7720 - val_accuracy: 0.5531 - val_precision: 0.5531 - val_recall: 0.5531 - val_f1_metric: 0.5039\n",
      "Epoch 28/60\n",
      "259/259 [==============================] - 64s 245ms/step - loss: 0.4456 - accuracy: 0.8231 - precision: 0.8231 - recall: 0.8231 - f1_metric: 0.7727 - val_loss: 0.7045 - val_accuracy: 0.6917 - val_precision: 0.6917 - val_recall: 0.6917 - val_f1_metric: 0.4352\n",
      "Epoch 29/60\n",
      "259/259 [==============================] - 64s 246ms/step - loss: 0.4391 - accuracy: 0.8272 - precision: 0.8272 - recall: 0.8272 - f1_metric: 0.7768 - val_loss: 0.7279 - val_accuracy: 0.6880 - val_precision: 0.6880 - val_recall: 0.6880 - val_f1_metric: 0.5633\n",
      "Epoch 30/60\n",
      "259/259 [==============================] - 64s 245ms/step - loss: 0.4373 - accuracy: 0.8279 - precision: 0.8279 - recall: 0.8279 - f1_metric: 0.7802 - val_loss: 0.6309 - val_accuracy: 0.7075 - val_precision: 0.7075 - val_recall: 0.7075 - val_f1_metric: 0.4562\n",
      "Epoch 31/60\n",
      "259/259 [==============================] - 63s 244ms/step - loss: 0.4413 - accuracy: 0.8294 - precision: 0.8294 - recall: 0.8294 - f1_metric: 0.7819 - val_loss: 0.6029 - val_accuracy: 0.7046 - val_precision: 0.7046 - val_recall: 0.7046 - val_f1_metric: 0.3098\n",
      "Epoch 32/60\n",
      "259/259 [==============================] - 64s 246ms/step - loss: 0.4305 - accuracy: 0.8334 - precision: 0.8334 - recall: 0.8334 - f1_metric: 0.7853 - val_loss: 0.7923 - val_accuracy: 0.6589 - val_precision: 0.6589 - val_recall: 0.6589 - val_f1_metric: 0.5529\n",
      "Epoch 33/60\n",
      "259/259 [==============================] - 64s 247ms/step - loss: 0.4408 - accuracy: 0.8259 - precision: 0.8259 - recall: 0.8259 - f1_metric: 0.7752 - val_loss: 0.6299 - val_accuracy: 0.7145 - val_precision: 0.7145 - val_recall: 0.7145 - val_f1_metric: 0.3641\n",
      "Epoch 34/60\n",
      "259/259 [==============================] - 63s 243ms/step - loss: 0.4317 - accuracy: 0.8318 - precision: 0.8318 - recall: 0.8318 - f1_metric: 0.7845 - val_loss: 0.9291 - val_accuracy: 0.7029 - val_precision: 0.7029 - val_recall: 0.7029 - val_f1_metric: 0.1189\n",
      "Epoch 35/60\n",
      "259/259 [==============================] - 63s 242ms/step - loss: 0.4308 - accuracy: 0.8352 - precision: 0.8352 - recall: 0.8352 - f1_metric: 0.7874 - val_loss: 0.7861 - val_accuracy: 0.7050 - val_precision: 0.7050 - val_recall: 0.7050 - val_f1_metric: 0.1675\n",
      "Epoch 36/60\n",
      "259/259 [==============================] - 64s 245ms/step - loss: 0.4292 - accuracy: 0.8384 - precision: 0.8384 - recall: 0.8384 - f1_metric: 0.7886 - val_loss: 0.7124 - val_accuracy: 0.6992 - val_precision: 0.6992 - val_recall: 0.6992 - val_f1_metric: 0.4432\n",
      "Epoch 37/60\n",
      "259/259 [==============================] - 63s 244ms/step - loss: 0.4230 - accuracy: 0.8380 - precision: 0.8380 - recall: 0.8380 - f1_metric: 0.7912 - val_loss: 0.7472 - val_accuracy: 0.6481 - val_precision: 0.6481 - val_recall: 0.6481 - val_f1_metric: 0.5285\n",
      "Epoch 38/60\n",
      "259/259 [==============================] - 63s 241ms/step - loss: 0.4329 - accuracy: 0.8331 - precision: 0.8331 - recall: 0.8331 - f1_metric: 0.7845 - val_loss: 0.8001 - val_accuracy: 0.7041 - val_precision: 0.7041 - val_recall: 0.7041 - val_f1_metric: 0.3610\n",
      "Epoch 39/60\n",
      "259/259 [==============================] - 63s 243ms/step - loss: 0.4291 - accuracy: 0.8352 - precision: 0.8352 - recall: 0.8352 - f1_metric: 0.7878 - val_loss: 0.6879 - val_accuracy: 0.7095 - val_precision: 0.7095 - val_recall: 0.7095 - val_f1_metric: 0.4738\n",
      "Epoch 40/60\n",
      "259/259 [==============================] - 64s 245ms/step - loss: 0.4253 - accuracy: 0.8396 - precision: 0.8396 - recall: 0.8396 - f1_metric: 0.7933 - val_loss: 1.3514 - val_accuracy: 0.5232 - val_precision: 0.5232 - val_recall: 0.5232 - val_f1_metric: 0.5140\n",
      "Epoch 41/60\n",
      "259/259 [==============================] - 63s 244ms/step - loss: 0.4235 - accuracy: 0.8377 - precision: 0.8377 - recall: 0.8377 - f1_metric: 0.7919 - val_loss: 0.6808 - val_accuracy: 0.6801 - val_precision: 0.6801 - val_recall: 0.6801 - val_f1_metric: 0.5227\n",
      "Epoch 42/60\n",
      "259/259 [==============================] - 64s 245ms/step - loss: 0.4185 - accuracy: 0.8445 - precision: 0.8445 - recall: 0.8445 - f1_metric: 0.7982 - val_loss: 1.0095 - val_accuracy: 0.6979 - val_precision: 0.6979 - val_recall: 0.6979 - val_f1_metric: 0.3079\n",
      "Epoch 43/60\n",
      "259/259 [==============================] - 63s 244ms/step - loss: 0.4197 - accuracy: 0.8395 - precision: 0.8395 - recall: 0.8395 - f1_metric: 0.7899 - val_loss: 0.6815 - val_accuracy: 0.7087 - val_precision: 0.7087 - val_recall: 0.7087 - val_f1_metric: 0.3579\n",
      "Epoch 44/60\n",
      "259/259 [==============================] - 64s 244ms/step - loss: 0.4273 - accuracy: 0.8386 - precision: 0.8386 - recall: 0.8386 - f1_metric: 0.7907 - val_loss: 0.6423 - val_accuracy: 0.6469 - val_precision: 0.6469 - val_recall: 0.6469 - val_f1_metric: 0.5100\n",
      "Epoch 45/60\n",
      "259/259 [==============================] - 63s 244ms/step - loss: 0.4181 - accuracy: 0.8465 - precision: 0.8465 - recall: 0.8465 - f1_metric: 0.8030 - val_loss: 0.7772 - val_accuracy: 0.7071 - val_precision: 0.7071 - val_recall: 0.7071 - val_f1_metric: 0.3106\n",
      "Epoch 46/60\n",
      "259/259 [==============================] - 63s 244ms/step - loss: 0.4178 - accuracy: 0.8395 - precision: 0.8395 - recall: 0.8395 - f1_metric: 0.7916 - val_loss: 0.9213 - val_accuracy: 0.6552 - val_precision: 0.6552 - val_recall: 0.6552 - val_f1_metric: 0.5193\n",
      "Epoch 47/60\n",
      "259/259 [==============================] - 63s 243ms/step - loss: 0.4230 - accuracy: 0.8406 - precision: 0.8406 - recall: 0.8406 - f1_metric: 0.7932 - val_loss: 0.6699 - val_accuracy: 0.7021 - val_precision: 0.7021 - val_recall: 0.7021 - val_f1_metric: 0.1555\n",
      "Epoch 48/60\n",
      "259/259 [==============================] - 64s 245ms/step - loss: 0.4166 - accuracy: 0.8392 - precision: 0.8392 - recall: 0.8392 - f1_metric: 0.7919 - val_loss: 0.8145 - val_accuracy: 0.6257 - val_precision: 0.6257 - val_recall: 0.6257 - val_f1_metric: 0.5361\n",
      "Epoch 49/60\n",
      "259/259 [==============================] - 63s 244ms/step - loss: 0.4101 - accuracy: 0.8468 - precision: 0.8468 - recall: 0.8468 - f1_metric: 0.8016 - val_loss: 0.6833 - val_accuracy: 0.7183 - val_precision: 0.7183 - val_recall: 0.7183 - val_f1_metric: 0.2792\n",
      "Epoch 50/60\n",
      "259/259 [==============================] - 63s 242ms/step - loss: 0.4136 - accuracy: 0.8438 - precision: 0.8438 - recall: 0.8438 - f1_metric: 0.7979 - val_loss: 0.8010 - val_accuracy: 0.6548 - val_precision: 0.6548 - val_recall: 0.6548 - val_f1_metric: 0.5561\n",
      "Epoch 51/60\n",
      "259/259 [==============================] - 63s 242ms/step - loss: 0.4052 - accuracy: 0.8500 - precision: 0.8500 - recall: 0.8500 - f1_metric: 0.8046 - val_loss: 0.8479 - val_accuracy: 0.5705 - val_precision: 0.5705 - val_recall: 0.5705 - val_f1_metric: 0.5242\n",
      "Epoch 52/60\n",
      "259/259 [==============================] - 63s 242ms/step - loss: 0.4113 - accuracy: 0.8456 - precision: 0.8456 - recall: 0.8456 - f1_metric: 0.7997 - val_loss: 0.6608 - val_accuracy: 0.7195 - val_precision: 0.7195 - val_recall: 0.7195 - val_f1_metric: 0.3508\n",
      "Epoch 53/60\n",
      "259/259 [==============================] - 63s 242ms/step - loss: 0.4046 - accuracy: 0.8458 - precision: 0.8458 - recall: 0.8458 - f1_metric: 0.7996 - val_loss: 0.7650 - val_accuracy: 0.5967 - val_precision: 0.5967 - val_recall: 0.5967 - val_f1_metric: 0.5463\n",
      "Epoch 54/60\n",
      "259/259 [==============================] - 63s 243ms/step - loss: 0.4080 - accuracy: 0.8485 - precision: 0.8485 - recall: 0.8485 - f1_metric: 0.8024 - val_loss: 0.9151 - val_accuracy: 0.7104 - val_precision: 0.7104 - val_recall: 0.7104 - val_f1_metric: 0.3373\n",
      "Epoch 55/60\n",
      "259/259 [==============================] - 64s 245ms/step - loss: 0.4054 - accuracy: 0.8474 - precision: 0.8474 - recall: 0.8474 - f1_metric: 0.7989 - val_loss: 0.6844 - val_accuracy: 0.7046 - val_precision: 0.7046 - val_recall: 0.7046 - val_f1_metric: 0.5063\n",
      "Epoch 56/60\n",
      "259/259 [==============================] - 63s 244ms/step - loss: 0.4007 - accuracy: 0.8529 - precision: 0.8529 - recall: 0.8529 - f1_metric: 0.8105 - val_loss: 1.0443 - val_accuracy: 0.6295 - val_precision: 0.6295 - val_recall: 0.6295 - val_f1_metric: 0.5385\n",
      "Epoch 57/60\n",
      "259/259 [==============================] - 63s 244ms/step - loss: 0.4010 - accuracy: 0.8472 - precision: 0.8472 - recall: 0.8472 - f1_metric: 0.8037 - val_loss: 0.7270 - val_accuracy: 0.7004 - val_precision: 0.7004 - val_recall: 0.7004 - val_f1_metric: 0.4399\n",
      "Epoch 58/60\n",
      "259/259 [==============================] - 63s 243ms/step - loss: 0.4097 - accuracy: 0.8463 - precision: 0.8463 - recall: 0.8463 - f1_metric: 0.7994 - val_loss: 0.7149 - val_accuracy: 0.5983 - val_precision: 0.5983 - val_recall: 0.5983 - val_f1_metric: 0.3762\n",
      "Epoch 59/60\n",
      "259/259 [==============================] - 64s 245ms/step - loss: 0.4021 - accuracy: 0.8527 - precision: 0.8527 - recall: 0.8527 - f1_metric: 0.8040 - val_loss: 0.7676 - val_accuracy: 0.6560 - val_precision: 0.6560 - val_recall: 0.6560 - val_f1_metric: 0.5478\n",
      "Epoch 60/60\n",
      "259/259 [==============================] - 63s 244ms/step - loss: 0.3970 - accuracy: 0.8558 - precision: 0.8558 - recall: 0.8558 - f1_metric: 0.8109 - val_loss: 0.9615 - val_accuracy: 0.7154 - val_precision: 0.7154 - val_recall: 0.7154 - val_f1_metric: 0.5123\n"
     ]
    }
   ],
   "execution_count": 23
  },
  {
   "metadata": {},
   "cell_type": "markdown",
   "source": "# Save Model",
   "id": "c8265645ba42c124"
  },
  {
   "metadata": {},
   "cell_type": "code",
   "outputs": [],
   "execution_count": null,
   "source": "import pickle",
   "id": "b6ac8f282d051d26"
  },
  {
   "metadata": {},
   "cell_type": "code",
   "outputs": [],
   "execution_count": null,
   "source": [
    "with open('model_history.pkl', 'wb') as f:\n",
    "    pickle.dump(history.history, f)"
   ],
   "id": "68cb0244f302a36b"
  },
  {
   "metadata": {},
   "cell_type": "code",
   "outputs": [],
   "execution_count": null,
   "source": [
    "with open('model_history.pkl', 'rb') as f:\n",
    "    loaded_history = pickle.load(f)"
   ],
   "id": "dd15d0fcef5d3dbe"
  },
  {
   "metadata": {},
   "cell_type": "code",
   "outputs": [],
   "execution_count": null,
   "source": "model.save('multi_input_cnn_model_0_9067_f1score_60_epoch.h5')",
   "id": "72b3770474f20db0"
  },
  {
   "metadata": {},
   "cell_type": "markdown",
   "source": "# Get Model",
   "id": "9e1d193ecc738c24"
  },
  {
   "metadata": {
    "ExecuteTime": {
     "end_time": "2024-11-01T18:19:02.741177Z",
     "start_time": "2024-11-01T18:19:02.381066Z"
    }
   },
   "cell_type": "code",
   "source": [
    "from tensorflow.keras.models import load_model\n",
    "from tensorflow.keras import backend as K\n",
    "\n",
    "def f1_metric(y_true, y_pred):\n",
    "    # Convert predictions from softmax to class predictions\n",
    "    y_true = tf.argmax(y_true, axis=-1)\n",
    "    y_pred = tf.argmax(y_pred, axis=-1)\n",
    "\n",
    "    # Cast to float32 for compatibility\n",
    "    y_true = tf.cast(y_true, tf.float32)\n",
    "    y_pred = tf.cast(y_pred, tf.float32)\n",
    "\n",
    "    # Calculate metrics\n",
    "    true_positives = K.sum(K.round(K.clip(y_true * y_pred, 0, 1)))\n",
    "    possible_positives = K.sum(K.round(K.clip(y_true, 0, 1)))\n",
    "    predicted_positives = K.sum(K.round(K.clip(y_pred, 0, 1)))\n",
    "\n",
    "    precision = true_positives / (predicted_positives + K.epsilon())\n",
    "    recall = true_positives / (possible_positives + K.epsilon())\n",
    "\n",
    "    f1_val = 2 * (precision * recall) / (precision + recall + K.epsilon())\n",
    "    return f1_val\n",
    "\n",
    "model = load_model('multi_input_cnn_model_0_9067_f1score_60_epoch.h5', custom_objects={'f1_metric': f1_metric})"
   ],
   "id": "f836532f1903c966",
   "outputs": [],
   "execution_count": 8
  },
  {
   "metadata": {},
   "cell_type": "markdown",
   "source": "# Plot Performance",
   "id": "1f96c70023240dc0"
  },
  {
   "metadata": {
    "ExecuteTime": {
     "end_time": "2024-11-01T18:19:06.676669Z",
     "start_time": "2024-11-01T18:19:06.362429Z"
    }
   },
   "cell_type": "code",
   "source": "from matplotlib import pyplot as plt",
   "id": "bceef8e5bf88d16b",
   "outputs": [],
   "execution_count": 9
  },
  {
   "metadata": {
    "ExecuteTime": {
     "end_time": "2024-11-01T18:19:07.846988Z",
     "start_time": "2024-11-01T18:19:07.214453Z"
    }
   },
   "cell_type": "code",
   "source": [
    "fig = plt.figure()\n",
    "plt.plot(history.history['loss'], color='teal', label='loss')\n",
    "plt.plot(history.history['val_loss'], color='orange', label='val_loss')\n",
    "fig.suptitle('Loss', fontsize=20)\n",
    "plt.legend(loc=\"upper left\")\n",
    "plt.show()"
   ],
   "id": "6a63ce020dab9ed7",
   "outputs": [
    {
     "ename": "NameError",
     "evalue": "name 'history' is not defined",
     "output_type": "error",
     "traceback": [
      "\u001B[1;31m---------------------------------------------------------------------------\u001B[0m",
      "\u001B[1;31mNameError\u001B[0m                                 Traceback (most recent call last)",
      "Cell \u001B[1;32mIn[10], line 2\u001B[0m\n\u001B[0;32m      1\u001B[0m fig \u001B[38;5;241m=\u001B[39m plt\u001B[38;5;241m.\u001B[39mfigure()\n\u001B[1;32m----> 2\u001B[0m plt\u001B[38;5;241m.\u001B[39mplot(\u001B[43mhistory\u001B[49m\u001B[38;5;241m.\u001B[39mhistory[\u001B[38;5;124m'\u001B[39m\u001B[38;5;124mloss\u001B[39m\u001B[38;5;124m'\u001B[39m], color\u001B[38;5;241m=\u001B[39m\u001B[38;5;124m'\u001B[39m\u001B[38;5;124mteal\u001B[39m\u001B[38;5;124m'\u001B[39m, label\u001B[38;5;241m=\u001B[39m\u001B[38;5;124m'\u001B[39m\u001B[38;5;124mloss\u001B[39m\u001B[38;5;124m'\u001B[39m)\n\u001B[0;32m      3\u001B[0m plt\u001B[38;5;241m.\u001B[39mplot(history\u001B[38;5;241m.\u001B[39mhistory[\u001B[38;5;124m'\u001B[39m\u001B[38;5;124mval_loss\u001B[39m\u001B[38;5;124m'\u001B[39m], color\u001B[38;5;241m=\u001B[39m\u001B[38;5;124m'\u001B[39m\u001B[38;5;124morange\u001B[39m\u001B[38;5;124m'\u001B[39m, label\u001B[38;5;241m=\u001B[39m\u001B[38;5;124m'\u001B[39m\u001B[38;5;124mval_loss\u001B[39m\u001B[38;5;124m'\u001B[39m)\n\u001B[0;32m      4\u001B[0m fig\u001B[38;5;241m.\u001B[39msuptitle(\u001B[38;5;124m'\u001B[39m\u001B[38;5;124mLoss\u001B[39m\u001B[38;5;124m'\u001B[39m, fontsize\u001B[38;5;241m=\u001B[39m\u001B[38;5;241m20\u001B[39m)\n",
      "\u001B[1;31mNameError\u001B[0m: name 'history' is not defined"
     ]
    },
    {
     "data": {
      "text/plain": [
       "<Figure size 640x480 with 0 Axes>"
      ]
     },
     "metadata": {},
     "output_type": "display_data"
    }
   ],
   "execution_count": 10
  },
  {
   "metadata": {
    "ExecuteTime": {
     "end_time": "2024-10-31T06:01:36.013815Z",
     "start_time": "2024-10-31T06:01:35.904442Z"
    }
   },
   "cell_type": "code",
   "source": [
    "fig = plt.figure()\n",
    "plt.plot(history.history['accuracy'], color='teal', label='accuracy')\n",
    "plt.plot(history.history['val_accuracy'], color='orange', label='val_accuracy')\n",
    "fig.suptitle('Accuracy', fontsize=20)\n",
    "plt.legend(loc=\"upper left\")\n",
    "plt.show()"
   ],
   "id": "47d685e119c74a18",
   "outputs": [
    {
     "data": {
      "text/plain": [
       "<Figure size 640x480 with 1 Axes>"
      ],
      "image/png": "[encoded data removed]"
     },
     "metadata": {},
     "output_type": "display_data"
    }
   ],
   "execution_count": 25
  },
  {
   "metadata": {
    "ExecuteTime": {
     "end_time": "2024-10-31T09:33:16.537435Z",
     "start_time": "2024-10-31T09:33:16.443686Z"
    }
   },
   "cell_type": "code",
   "source": "",
   "id": "7598c79eb01d3be6",
   "outputs": [],
   "execution_count": 27
  },
  {
   "metadata": {
    "ExecuteTime": {
     "end_time": "2024-11-01T18:28:45.179111Z",
     "start_time": "2024-11-01T18:21:11.404785Z"
    }
   },
   "cell_type": "code",
   "source": [
    "def evaluate_model(model, generator):\n",
    "    y_true = []\n",
    "    y_pred = []\n",
    "    \n",
    "    for i in range(len(generator)):\n",
    "        images, batch_y_true = generator[i]\n",
    "        \n",
    "        # Get predictions from model\n",
    "        batch_predictions = model.predict(images, verbose=0)\n",
    "        \n",
    "        # Convert softmax output to binary class predictions\n",
    "        batch_y_pred = np.argmax(batch_predictions, axis=1)\n",
    "        \n",
    "        # Flatten ground truth if it's one-hot encoded\n",
    "        batch_y_true = np.argmax(batch_y_true, axis=1)\n",
    "        \n",
    "        y_true.extend(batch_y_true.flatten())\n",
    "        y_pred.extend(batch_y_pred.flatten())\n",
    "    \n",
    "    y_true = np.array(y_true)\n",
    "    y_pred = np.array(y_pred)\n",
    "    \n",
    "    metrics = {\n",
    "        'f1_micro': f1_score(y_true, y_pred, average='micro'),\n",
    "        'f1_macro': f1_score(y_true, y_pred, average='macro'),\n",
    "        'f1_weighted': f1_score(y_true, y_pred, average='weighted'),\n",
    "        'f1_per_class': f1_score(y_true, y_pred, average=None)\n",
    "    }\n",
    "    \n",
    "    return metrics\n",
    "\n",
    "test_directories = [\"data/mean_subtract/gaf_images/AccAP/test\", \"data/mean_subtract/gaf_images/AccML/test\", \"data/mean_subtract/gaf_images/AccV/test\"]\n",
    "\n",
    "test_generator = CustomMultiInputDataGenerator(\n",
    "    directories=test_directories,\n",
    "    batch_size=32,\n",
    "    image_size=img_shape,\n",
    "    augment=False,\n",
    "    num_classes=2\n",
    ")\n",
    "\n",
    "results = evaluate_model(model, test_generator)\n",
    "\n",
    "print(\"\\nModel Evaluation Results:\")\n",
    "print(f\"Micro F1 Score: {results['f1_micro']:.4f}\")\n",
    "print(f\"Macro F1 Score: {results['f1_macro']:.4f}\")\n",
    "print(f\"Weighted F1 Score: {results['f1_weighted']:.4f}\")\n",
    "print(\"\\nF1 Score per class:\")\n",
    "for i, score in enumerate(results['f1_per_class']):\n",
    "    print(f\"Class {i}: {score:.4f}\")"
   ],
   "id": "1ac57b33811ac630",
   "outputs": [
    {
     "name": "stdout",
     "output_type": "stream",
     "text": [
      "\n",
      "Model Evaluation Results:\n",
      "Micro F1 Score: 0.8759\n",
      "Macro F1 Score: 0.8586\n",
      "Weighted F1 Score: 0.8756\n",
      "\n",
      "F1 Score per class:\n",
      "Class 0: 0.8091\n",
      "Class 1: 0.9081\n"
     ]
    }
   ],
   "execution_count": 13
  },
  {
   "metadata": {
    "ExecuteTime": {
     "end_time": "2024-11-01T18:31:26.785261Z",
     "start_time": "2024-11-01T18:31:26.780246Z"
    }
   },
   "cell_type": "code",
   "source": "# test_generator[1]",
   "id": "a12b02c55fad7709",
   "outputs": [],
   "execution_count": 18
  },
  {
   "metadata": {
    "ExecuteTime": {
     "end_time": "2024-11-01T18:33:59.665632Z",
     "start_time": "2024-11-01T18:33:20.989034Z"
    }
   },
   "cell_type": "code",
   "source": [
    "from sklearn.metrics import confusion_matrix\n",
    "\n",
    "test_generator.shuffle = False\n",
    "\n",
    "steps = test_generator.samples // test_generator.batch_size\n",
    "y_pred = model.predict(test_generator, steps=steps)\n",
    "y_pred = np.argmax(y_pred, axis=1)\n",
    "\n",
    "y_true = test_generator[1]"
   ],
   "id": "2c327e38237d946f",
   "outputs": [
    {
     "name": "stdout",
     "output_type": "stream",
     "text": [
      "195/195 [==============================] - 38s 195ms/step\n"
     ]
    },
    {
     "ename": "ValueError",
     "evalue": "Found input variables with inconsistent numbers of samples: [2, 6240]",
     "output_type": "error",
     "traceback": [
      "\u001B[1;31m---------------------------------------------------------------------------\u001B[0m",
      "\u001B[1;31mValueError\u001B[0m                                Traceback (most recent call last)",
      "Cell \u001B[1;32mIn[20], line 11\u001B[0m\n\u001B[0;32m      7\u001B[0m y_pred \u001B[38;5;241m=\u001B[39m np\u001B[38;5;241m.\u001B[39margmax(y_pred, axis\u001B[38;5;241m=\u001B[39m\u001B[38;5;241m1\u001B[39m)\n\u001B[0;32m      9\u001B[0m y_true \u001B[38;5;241m=\u001B[39m test_generator[\u001B[38;5;241m1\u001B[39m]\n\u001B[1;32m---> 11\u001B[0m tn, fp, fn, tp \u001B[38;5;241m=\u001B[39m \u001B[43mconfusion_matrix\u001B[49m\u001B[43m(\u001B[49m\u001B[43my_true\u001B[49m\u001B[43m,\u001B[49m\u001B[43m \u001B[49m\u001B[43my_pred\u001B[49m\u001B[43m)\u001B[49m\u001B[38;5;241m.\u001B[39mravel()\n\u001B[0;32m     13\u001B[0m \u001B[38;5;28mprint\u001B[39m(\u001B[38;5;124mf\u001B[39m\u001B[38;5;124m\"\u001B[39m\u001B[38;5;124mTrue Positives (TP): \u001B[39m\u001B[38;5;132;01m{\u001B[39;00mtp\u001B[38;5;132;01m}\u001B[39;00m\u001B[38;5;124m\"\u001B[39m)\n\u001B[0;32m     14\u001B[0m \u001B[38;5;28mprint\u001B[39m(\u001B[38;5;124mf\u001B[39m\u001B[38;5;124m\"\u001B[39m\u001B[38;5;124mTrue Negatives (TN): \u001B[39m\u001B[38;5;132;01m{\u001B[39;00mtn\u001B[38;5;132;01m}\u001B[39;00m\u001B[38;5;124m\"\u001B[39m)\n",
      "File \u001B[1;32mF:\\anaconda3\\envs\\py310\\lib\\site-packages\\sklearn\\utils\\_param_validation.py:213\u001B[0m, in \u001B[0;36mvalidate_params.<locals>.decorator.<locals>.wrapper\u001B[1;34m(*args, **kwargs)\u001B[0m\n\u001B[0;32m    207\u001B[0m \u001B[38;5;28;01mtry\u001B[39;00m:\n\u001B[0;32m    208\u001B[0m     \u001B[38;5;28;01mwith\u001B[39;00m config_context(\n\u001B[0;32m    209\u001B[0m         skip_parameter_validation\u001B[38;5;241m=\u001B[39m(\n\u001B[0;32m    210\u001B[0m             prefer_skip_nested_validation \u001B[38;5;129;01mor\u001B[39;00m global_skip_validation\n\u001B[0;32m    211\u001B[0m         )\n\u001B[0;32m    212\u001B[0m     ):\n\u001B[1;32m--> 213\u001B[0m         \u001B[38;5;28;01mreturn\u001B[39;00m func(\u001B[38;5;241m*\u001B[39margs, \u001B[38;5;241m*\u001B[39m\u001B[38;5;241m*\u001B[39mkwargs)\n\u001B[0;32m    214\u001B[0m \u001B[38;5;28;01mexcept\u001B[39;00m InvalidParameterError \u001B[38;5;28;01mas\u001B[39;00m e:\n\u001B[0;32m    215\u001B[0m     \u001B[38;5;66;03m# When the function is just a wrapper around an estimator, we allow\u001B[39;00m\n\u001B[0;32m    216\u001B[0m     \u001B[38;5;66;03m# the function to delegate validation to the estimator, but we replace\u001B[39;00m\n\u001B[0;32m    217\u001B[0m     \u001B[38;5;66;03m# the name of the estimator by the name of the function in the error\u001B[39;00m\n\u001B[0;32m    218\u001B[0m     \u001B[38;5;66;03m# message to avoid confusion.\u001B[39;00m\n\u001B[0;32m    219\u001B[0m     msg \u001B[38;5;241m=\u001B[39m re\u001B[38;5;241m.\u001B[39msub(\n\u001B[0;32m    220\u001B[0m         \u001B[38;5;124mr\u001B[39m\u001B[38;5;124m\"\u001B[39m\u001B[38;5;124mparameter of \u001B[39m\u001B[38;5;124m\\\u001B[39m\u001B[38;5;124mw+ must be\u001B[39m\u001B[38;5;124m\"\u001B[39m,\n\u001B[0;32m    221\u001B[0m         \u001B[38;5;124mf\u001B[39m\u001B[38;5;124m\"\u001B[39m\u001B[38;5;124mparameter of \u001B[39m\u001B[38;5;132;01m{\u001B[39;00mfunc\u001B[38;5;241m.\u001B[39m\u001B[38;5;18m__qualname__\u001B[39m\u001B[38;5;132;01m}\u001B[39;00m\u001B[38;5;124m must be\u001B[39m\u001B[38;5;124m\"\u001B[39m,\n\u001B[0;32m    222\u001B[0m         \u001B[38;5;28mstr\u001B[39m(e),\n\u001B[0;32m    223\u001B[0m     )\n",
      "File \u001B[1;32mF:\\anaconda3\\envs\\py310\\lib\\site-packages\\sklearn\\metrics\\_classification.py:342\u001B[0m, in \u001B[0;36mconfusion_matrix\u001B[1;34m(y_true, y_pred, labels, sample_weight, normalize)\u001B[0m\n\u001B[0;32m    247\u001B[0m \u001B[38;5;129m@validate_params\u001B[39m(\n\u001B[0;32m    248\u001B[0m     {\n\u001B[0;32m    249\u001B[0m         \u001B[38;5;124m\"\u001B[39m\u001B[38;5;124my_true\u001B[39m\u001B[38;5;124m\"\u001B[39m: [\u001B[38;5;124m\"\u001B[39m\u001B[38;5;124marray-like\u001B[39m\u001B[38;5;124m\"\u001B[39m],\n\u001B[1;32m   (...)\u001B[0m\n\u001B[0;32m    258\u001B[0m     y_true, y_pred, \u001B[38;5;241m*\u001B[39m, labels\u001B[38;5;241m=\u001B[39m\u001B[38;5;28;01mNone\u001B[39;00m, sample_weight\u001B[38;5;241m=\u001B[39m\u001B[38;5;28;01mNone\u001B[39;00m, normalize\u001B[38;5;241m=\u001B[39m\u001B[38;5;28;01mNone\u001B[39;00m\n\u001B[0;32m    259\u001B[0m ):\n\u001B[0;32m    260\u001B[0m \u001B[38;5;250m    \u001B[39m\u001B[38;5;124;03m\"\"\"Compute confusion matrix to evaluate the accuracy of a classification.\u001B[39;00m\n\u001B[0;32m    261\u001B[0m \n\u001B[0;32m    262\u001B[0m \u001B[38;5;124;03m    By definition a confusion matrix :math:`C` is such that :math:`C_{i, j}`\u001B[39;00m\n\u001B[1;32m   (...)\u001B[0m\n\u001B[0;32m    340\u001B[0m \u001B[38;5;124;03m    (0, 2, 1, 1)\u001B[39;00m\n\u001B[0;32m    341\u001B[0m \u001B[38;5;124;03m    \"\"\"\u001B[39;00m\n\u001B[1;32m--> 342\u001B[0m     y_type, y_true, y_pred \u001B[38;5;241m=\u001B[39m \u001B[43m_check_targets\u001B[49m\u001B[43m(\u001B[49m\u001B[43my_true\u001B[49m\u001B[43m,\u001B[49m\u001B[43m \u001B[49m\u001B[43my_pred\u001B[49m\u001B[43m)\u001B[49m\n\u001B[0;32m    343\u001B[0m     \u001B[38;5;28;01mif\u001B[39;00m y_type \u001B[38;5;129;01mnot\u001B[39;00m \u001B[38;5;129;01min\u001B[39;00m (\u001B[38;5;124m\"\u001B[39m\u001B[38;5;124mbinary\u001B[39m\u001B[38;5;124m\"\u001B[39m, \u001B[38;5;124m\"\u001B[39m\u001B[38;5;124mmulticlass\u001B[39m\u001B[38;5;124m\"\u001B[39m):\n\u001B[0;32m    344\u001B[0m         \u001B[38;5;28;01mraise\u001B[39;00m \u001B[38;5;167;01mValueError\u001B[39;00m(\u001B[38;5;124m\"\u001B[39m\u001B[38;5;132;01m%s\u001B[39;00m\u001B[38;5;124m is not supported\u001B[39m\u001B[38;5;124m\"\u001B[39m \u001B[38;5;241m%\u001B[39m y_type)\n",
      "File \u001B[1;32mF:\\anaconda3\\envs\\py310\\lib\\site-packages\\sklearn\\metrics\\_classification.py:103\u001B[0m, in \u001B[0;36m_check_targets\u001B[1;34m(y_true, y_pred)\u001B[0m\n\u001B[0;32m     76\u001B[0m \u001B[38;5;250m\u001B[39m\u001B[38;5;124;03m\"\"\"Check that y_true and y_pred belong to the same classification task.\u001B[39;00m\n\u001B[0;32m     77\u001B[0m \n\u001B[0;32m     78\u001B[0m \u001B[38;5;124;03mThis converts multiclass or binary types to a common shape, and raises a\u001B[39;00m\n\u001B[1;32m   (...)\u001B[0m\n\u001B[0;32m    100\u001B[0m \u001B[38;5;124;03my_pred : array or indicator matrix\u001B[39;00m\n\u001B[0;32m    101\u001B[0m \u001B[38;5;124;03m\"\"\"\u001B[39;00m\n\u001B[0;32m    102\u001B[0m xp, _ \u001B[38;5;241m=\u001B[39m get_namespace(y_true, y_pred)\n\u001B[1;32m--> 103\u001B[0m \u001B[43mcheck_consistent_length\u001B[49m\u001B[43m(\u001B[49m\u001B[43my_true\u001B[49m\u001B[43m,\u001B[49m\u001B[43m \u001B[49m\u001B[43my_pred\u001B[49m\u001B[43m)\u001B[49m\n\u001B[0;32m    104\u001B[0m type_true \u001B[38;5;241m=\u001B[39m type_of_target(y_true, input_name\u001B[38;5;241m=\u001B[39m\u001B[38;5;124m\"\u001B[39m\u001B[38;5;124my_true\u001B[39m\u001B[38;5;124m\"\u001B[39m)\n\u001B[0;32m    105\u001B[0m type_pred \u001B[38;5;241m=\u001B[39m type_of_target(y_pred, input_name\u001B[38;5;241m=\u001B[39m\u001B[38;5;124m\"\u001B[39m\u001B[38;5;124my_pred\u001B[39m\u001B[38;5;124m\"\u001B[39m)\n",
      "File \u001B[1;32mF:\\anaconda3\\envs\\py310\\lib\\site-packages\\sklearn\\utils\\validation.py:457\u001B[0m, in \u001B[0;36mcheck_consistent_length\u001B[1;34m(*arrays)\u001B[0m\n\u001B[0;32m    455\u001B[0m uniques \u001B[38;5;241m=\u001B[39m np\u001B[38;5;241m.\u001B[39munique(lengths)\n\u001B[0;32m    456\u001B[0m \u001B[38;5;28;01mif\u001B[39;00m \u001B[38;5;28mlen\u001B[39m(uniques) \u001B[38;5;241m>\u001B[39m \u001B[38;5;241m1\u001B[39m:\n\u001B[1;32m--> 457\u001B[0m     \u001B[38;5;28;01mraise\u001B[39;00m \u001B[38;5;167;01mValueError\u001B[39;00m(\n\u001B[0;32m    458\u001B[0m         \u001B[38;5;124m\"\u001B[39m\u001B[38;5;124mFound input variables with inconsistent numbers of samples: \u001B[39m\u001B[38;5;132;01m%r\u001B[39;00m\u001B[38;5;124m\"\u001B[39m\n\u001B[0;32m    459\u001B[0m         \u001B[38;5;241m%\u001B[39m [\u001B[38;5;28mint\u001B[39m(l) \u001B[38;5;28;01mfor\u001B[39;00m l \u001B[38;5;129;01min\u001B[39;00m lengths]\n\u001B[0;32m    460\u001B[0m     )\n",
      "\u001B[1;31mValueError\u001B[0m: Found input variables with inconsistent numbers of samples: [2, 6240]"
     ]
    }
   ],
   "execution_count": 20
  },
  {
   "metadata": {
    "ExecuteTime": {
     "end_time": "2024-11-01T19:03:25.699007Z",
     "start_time": "2024-11-01T19:02:38.339825Z"
    }
   },
   "cell_type": "code",
   "source": [
    "from sklearn.metrics import f1_score, confusion_matrix\n",
    "import numpy as np\n",
    "\n",
    "def evaluate_model(model, generator):\n",
    "    y_true = []\n",
    "    y_pred = []\n",
    "    \n",
    "    # Loop over the generator to collect all predictions and true labels\n",
    "    for i in range(len(generator)):\n",
    "        images, batch_y_true = generator[i]\n",
    "        \n",
    "        # Get predictions from the model\n",
    "        batch_predictions = model.predict(images, verbose=0)\n",
    "        \n",
    "        # Convert softmax output to binary class predictions\n",
    "        batch_y_pred = np.argmax(batch_predictions, axis=1)\n",
    "        \n",
    "        # Convert ground truth if it's one-hot encoded\n",
    "        batch_y_true = np.argmax(batch_y_true, axis=1)\n",
    "        \n",
    "        y_true.extend(batch_y_true.flatten())\n",
    "        y_pred.extend(batch_y_pred.flatten())\n",
    "    \n",
    "    y_true = np.array(y_true)\n",
    "    y_pred = np.array(y_pred)\n",
    "    \n",
    "    # Calculate confusion matrix\n",
    "    tn, fp, fn, tp = confusion_matrix(y_true, y_pred).ravel()\n",
    "    \n",
    "    # Total number of samples\n",
    "    total_samples = len(y_true)\n",
    "    \n",
    "    # Convert counts to percentages\n",
    "    tn_percent = (tn / total_samples) * 100\n",
    "    fp_percent = (fp / total_samples) * 100\n",
    "    fn_percent = (fn / total_samples) * 100\n",
    "    tp_percent = (tp / total_samples) * 100\n",
    "    \n",
    "    # Calculate F1 metrics\n",
    "    metrics = {\n",
    "        'f1_micro': f1_score(y_true, y_pred, average='micro'),\n",
    "        'f1_macro': f1_score(y_true, y_pred, average='macro'),\n",
    "        'f1_weighted': f1_score(y_true, y_pred, average='weighted'),\n",
    "        'f1_per_class': f1_score(y_true, y_pred, average=None),\n",
    "        'true_positives_percentage': tp_percent,\n",
    "        'true_negatives_percentage': tn_percent,\n",
    "        'false_positives_percentage': fp_percent,\n",
    "        'false_negatives_percentage': fn_percent\n",
    "    }\n",
    "    \n",
    "    return metrics\n",
    "\n",
    "results = evaluate_model(model, test_generator)\n",
    "\n",
    "print(results)"
   ],
   "id": "c481e3059a89dc3f",
   "outputs": [
    {
     "name": "stdout",
     "output_type": "stream",
     "text": [
      "{'f1_micro': 0.8732214228617107, 'f1_macro': 0.855911585371256, 'f1_weighted': 0.8730856907411674, 'f1_per_class': array([0.80597015, 0.90585302]), 'true_positives_percentage': 60.99120703437249, 'true_negatives_percentage': 26.33093525179856, 'false_positives_percentage': 6.474820143884892, 'false_negatives_percentage': 6.203037569944045}\n"
     ]
    }
   ],
   "execution_count": 24
  },
  {
   "metadata": {
    "ExecuteTime": {
     "end_time": "2024-10-31T12:37:27.085815Z",
     "start_time": "2024-10-31T12:36:48.098604Z"
    }
   },
   "cell_type": "code",
   "source": [
    "results = model.evaluate(test_generator)\n",
    "print(f\"Test Results: {results}\")"
   ],
   "id": "ffa6944adbd35acf",
   "outputs": [
    {
     "name": "stdout",
     "output_type": "stream",
     "text": [
      "196/196 [==============================] - 39s 196ms/step - loss: 0.4418 - accuracy: 0.8723 - precision: 0.8723 - recall: 0.8723 - f1_metric: 0.9031\n",
      "Test Results: [0.44175735116004944, 0.872262179851532, 0.872262179851532, 0.872262179851532, 0.9030861854553223]\n"
     ]
    }
   ],
   "execution_count": 41
  },
  {
   "metadata": {
    "ExecuteTime": {
     "end_time": "2024-10-31T12:38:28.073313Z",
     "start_time": "2024-10-31T12:38:28.061306Z"
    }
   },
   "cell_type": "code",
   "source": [
    "for name, value in zip(model.metrics_names, results):\n",
    "    print(f\"{name}: {value:.4f}\")"
   ],
   "id": "aef80652a81e745d",
   "outputs": [
    {
     "name": "stdout",
     "output_type": "stream",
     "text": [
      "loss: 0.4418\n",
      "accuracy: 0.8723\n",
      "precision: 0.8723\n",
      "recall: 0.8723\n",
      "f1_metric: 0.9031\n"
     ]
    }
   ],
   "execution_count": 42
  },
  {
   "metadata": {},
   "cell_type": "code",
   "source": [
    "def evaluate_model(model, generator):\n",
    "    y_true = []\n",
    "    y_pred = []\n",
    "    \n",
    "    for i in range(len(generator)):\n",
    "        images, batch_y_true = generator[i]\n",
    "        \n",
    "        batch_predictions = model.predict(images, verbose=0)\n",
    "        batch_y_pred = (batch_predictions > 0.4).astype(int)\n",
    "        \n",
    "        y_true.extend(batch_y_true.flatten())\n",
    "        y_pred.extend(batch_y_pred.flatten())\n",
    "    \n",
    "    y_true = np.array(y_true)\n",
    "    y_pred = np.array(y_pred)\n",
    "    \n",
    "    metrics = {\n",
    "        'f1_micro': f1_score(y_true, y_pred, average='micro'),\n",
    "        'f1_macro': f1_score(y_true, y_pred, average='macro'),\n",
    "        'f1_weighted': f1_score(y_true, y_pred, average='weighted'),\n",
    "        'f1_per_class': f1_score(y_true, y_pred, average=None)\n",
    "    }\n",
    "    \n",
    "    return metrics\n",
    "\n",
    "\n",
    "test_generator = CustomDataGenerator(\"test\", augment=False)\n",
    "\n",
    "results = evaluate_model(model, test_generator)\n",
    "\n",
    "print(\"\\nModel Evaluation Results:\")\n",
    "print(f\"Micro F1 Score: {results['f1_micro']:.4f}\")\n",
    "print(f\"Macro F1 Score: {results['f1_macro']:.4f}\")\n",
    "print(f\"Weighted F1 Score: {results['f1_weighted']:.4f}\")\n",
    "print(\"\\nF1 Score per class:\")\n",
    "for i, score in enumerate(results['f1_per_class']):\n",
    "    print(f\"Class {i}: {score:.4f}\")"
   ],
   "id": "8343a63db3936742",
   "outputs": [],
   "execution_count": null
  },
  {
   "metadata": {
    "ExecuteTime": {
     "end_time": "2024-10-31T10:41:21.281400Z",
     "start_time": "2024-10-31T10:41:21.254261Z"
    }
   },
   "cell_type": "code",
   "source": [
    "train_dir = 'data/mean_subtract/gaf_images/AccML/train'\n",
    "test_dir = 'data/mean_subtract/gaf_images/AccML/test'\n",
    "valid_dir = 'data/mean_subtract/gaf_images/AccML/valid'\n",
    "\n",
    "# Get the list of files in each folder\n",
    "train_files = set(os.listdir(train_dir))\n",
    "test_files = set(os.listdir(test_dir))\n",
    "valid_files = set(os.listdir(valid_dir))\n",
    "\n",
    "# Find common files\n",
    "common_files = train_files & test_files & valid_files\n",
    "\n",
    "# Print or list the common files\n",
    "print(\"Common files:\", common_files)"
   ],
   "id": "8eae68cb2853728d",
   "outputs": [
    {
     "name": "stdout",
     "output_type": "stream",
     "text": [
      "Common files: set()\n"
     ]
    }
   ],
   "execution_count": 37
  },
  {
   "metadata": {
    "ExecuteTime": {
     "end_time": "2024-10-31T12:51:58.041362Z",
     "start_time": "2024-10-31T12:51:58.025738Z"
    }
   },
   "cell_type": "code",
   "source": "test_files & valid_files",
   "id": "8531a6af8c3ff0b2",
   "outputs": [
    {
     "data": {
      "text/plain": [
       "set()"
      ]
     },
     "execution_count": 45,
     "metadata": {},
     "output_type": "execute_result"
    }
   ],
   "execution_count": 45
  },
  {
   "metadata": {
    "ExecuteTime": {
     "end_time": "2024-10-31T10:41:52.998745Z",
     "start_time": "2024-10-31T10:41:52.951819Z"
    }
   },
   "cell_type": "code",
   "source": [
    "# Define the directory path\n",
    "directories = {\n",
    "    \"train\": 'data/mean_subtract/gaf_images/AccAP/train',\n",
    "    \"valid\": 'data/mean_subtract/gaf_images/AccAP/valid',\n",
    "    \"test\": 'data/mean_subtract/gaf_images/AccAP/test',\n",
    "}\n",
    "\n",
    "for type, dir in directories.items():\n",
    "    count_1 = 0\n",
    "    count_0 = 0\n",
    "    print(f\"For {type} ==>\")\n",
    "    for filename in os.listdir(dir):\n",
    "        if filename.endswith('_1.jpg'):\n",
    "            count_1 += 1\n",
    "        elif filename.endswith('_0.jpg'):\n",
    "            count_0 += 1\n",
    "    \n",
    "    # Print the counts\n",
    "    print(f\"class 1: {count_1}\")\n",
    "    print(f\"class 0: {count_0}\")\n"
   ],
   "id": "363d29252f242642",
   "outputs": [
    {
     "name": "stdout",
     "output_type": "stream",
     "text": [
      "For train ==>\n",
      "class 1: 3182\n",
      "class 0: 5106\n",
      "For valid ==>\n",
      "class 1: 710\n",
      "class 0: 1700\n",
      "For test ==>\n",
      "class 1: 4203\n",
      "class 0: 2052\n"
     ]
    }
   ],
   "execution_count": 39
  },
  {
   "metadata": {
    "ExecuteTime": {
     "end_time": "2024-11-01T06:24:52.369047Z",
     "start_time": "2024-11-01T06:23:34.636478Z"
    }
   },
   "cell_type": "code",
   "source": [
    "import os\n",
    "import hashlib\n",
    "\n",
    "def check_duplicate_images(root_dir):\n",
    "  \"\"\"\n",
    "  Checks for duplicate images across train, test, and validation folders.\n",
    "\n",
    "  Args:\n",
    "    root_dir: The root directory containing the 'train', 'test', and 'valid' folders.\n",
    "\n",
    "  Returns:\n",
    "    A list of tuples, where each tuple contains the paths to two duplicate images.\n",
    "  \"\"\"\n",
    "\n",
    "  duplicates = []\n",
    "  image_hashes = {}\n",
    "\n",
    "  for folder in ['train', 'test', 'valid']:\n",
    "    folder_path = os.path.join(root_dir, folder)\n",
    "    for filename in os.listdir(folder_path):\n",
    "      filepath = os.path.join(folder_path, filename)\n",
    "      with open(filepath, 'rb') as f:\n",
    "        file_hash = hashlib.md5(f.read()).hexdigest()\n",
    "        if file_hash in image_hashes:\n",
    "          duplicates.append((image_hashes[file_hash], filepath))\n",
    "        else:\n",
    "          image_hashes[file_hash] = filepath\n",
    "\n",
    "  return duplicates\n",
    "\n",
    "# Example usage:\n",
    "root_directory = 'data/mean_subtract/gaf_images/AccAP'\n",
    "duplicate_images = check_duplicate_images(root_directory)\n",
    "\n",
    "if duplicate_images:\n",
    "  print(\"Duplicate images found:\")\n",
    "  for duplicate_pair in duplicate_images:\n",
    "    print(duplicate_pair)\n",
    "else:\n",
    "  print(\"No duplicate images found.\")"
   ],
   "id": "7fba476dd1ffce74",
   "outputs": [
    {
     "name": "stdout",
     "output_type": "stream",
     "text": [
      "Duplicate images found:\n",
      "('data/mean_subtract/gaf_images/AccAP\\\\train\\\\img_AccAP_mean_11347_0.jpg', 'data/mean_subtract/gaf_images/AccAP\\\\train\\\\img_AccAP_mean_12783_0.jpg')\n",
      "('data/mean_subtract/gaf_images/AccAP\\\\train\\\\img_AccAP_mean_11347_0.jpg', 'data/mean_subtract/gaf_images/AccAP\\\\train\\\\img_AccAP_mean_13449_0.jpg')\n",
      "('data/mean_subtract/gaf_images/AccAP\\\\train\\\\img_AccAP_mean_11347_0.jpg', 'data/mean_subtract/gaf_images/AccAP\\\\train\\\\img_AccAP_mean_14065_0.jpg')\n",
      "('data/mean_subtract/gaf_images/AccAP\\\\train\\\\img_AccAP_mean_11347_0.jpg', 'data/mean_subtract/gaf_images/AccAP\\\\train\\\\img_AccAP_mean_15868_0.jpg')\n",
      "('data/mean_subtract/gaf_images/AccAP\\\\train\\\\img_AccAP_mean_11347_0.jpg', 'data/mean_subtract/gaf_images/AccAP\\\\train\\\\img_AccAP_mean_6823_0.jpg')\n",
      "('data/mean_subtract/gaf_images/AccAP\\\\train\\\\img_AccAP_mean_11347_0.jpg', 'data/mean_subtract/gaf_images/AccAP\\\\train\\\\img_AccAP_mean_9103_0.jpg')\n",
      "('data/mean_subtract/gaf_images/AccAP\\\\train\\\\img_AccAP_mean_11347_0.jpg', 'data/mean_subtract/gaf_images/AccAP\\\\test\\\\img_AccAP_mean_16200_0.jpg')\n",
      "('data/mean_subtract/gaf_images/AccAP\\\\train\\\\img_AccAP_mean_14337_0.jpg', 'data/mean_subtract/gaf_images/AccAP\\\\test\\\\img_AccAP_mean_2256_0.jpg')\n",
      "('data/mean_subtract/gaf_images/AccAP\\\\train\\\\img_AccAP_mean_11347_0.jpg', 'data/mean_subtract/gaf_images/AccAP\\\\valid\\\\img_AccAP_mean_9528_0.jpg')\n"
     ]
    }
   ],
   "execution_count": 1
  },
  {
   "metadata": {
    "ExecuteTime": {
     "end_time": "2024-10-31T16:55:41.724067Z",
     "start_time": "2024-10-31T16:55:41.696828Z"
    }
   },
   "cell_type": "code",
   "source": "",
   "id": "383ce1e863b621a5",
   "outputs": [
    {
     "name": "stdout",
     "output_type": "stream",
     "text": [
      "2.10.1\n"
     ]
    }
   ],
   "execution_count": 46
  },
  {
   "metadata": {},
   "cell_type": "code",
   "outputs": [],
   "execution_count": null,
   "source": "",
   "id": "c07d724042b69e66"
  }
 ],
 "metadata": {
  "kernelspec": {
   "display_name": "Python 3",
   "language": "python",
   "name": "python3"
  },
  "language_info": {
   "codemirror_mode": {
    "name": "ipython",
    "version": 2
   },
   "file_extension": ".py",
   "mimetype": "text/x-python",
   "name": "python",
   "nbconvert_exporter": "python",
   "pygments_lexer": "ipython2",
   "version": "2.7.6"
  }
 },
 "nbformat": 4,
 "nbformat_minor": 5
}
